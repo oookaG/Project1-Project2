{
  "cells": [
    {
      "cell_type": "code",
      "execution_count": 5,
      "metadata": {
        "colab": {
          "base_uri": "https://localhost:8080/"
        },
        "id": "7xY0PSws21Ex",
        "outputId": "742d4f2a-6d1b-4f70-ffcb-35911f9451c4"
      },
      "outputs": [
        {
          "output_type": "stream",
          "name": "stdout",
          "text": [
            "                    g         a     labsh         c         t  Growth Rate  \\\n",
            "countrycode                                                                  \n",
            "CAN          0.887700  0.346190  0.653810  0.634013  0.253687     0.887700   \n",
            "DEU          0.661055  0.370730  0.629270  0.437718  0.223337     0.661055   \n",
            "FRA          0.829236  0.381194  0.618806  0.568817  0.260418     0.829236   \n",
            "GBR          1.015544  0.412993  0.587007  0.573001  0.442543     1.015544   \n",
            "JPN          0.710956  0.430601  0.569399  0.631053  0.079903     0.710956   \n",
            "\n",
            "             Capital Share  TFP Share  Capital Deepening  TFP growth  \n",
            "countrycode                                                           \n",
            "CAN               0.346190   0.653810           0.634013    0.253687  \n",
            "DEU               0.370730   0.629270           0.437718    0.223337  \n",
            "FRA               0.381194   0.618806           0.568817    0.260418  \n",
            "GBR               0.412993   0.587007           0.573001    0.442543  \n",
            "JPN               0.430601   0.569399           0.631053    0.079903  \n"
          ]
        }
      ],
      "source": [
        "import pandas as pd\n",
        "import numpy as np\n",
        "\n",
        "\n",
        "# Load data\n",
        "#pwt90 = pd.read_stata('https://www.rug.nl/ggdc/docs/pwt90.dta')\n",
        "pwt1001 = pd.read_stata('https://dataverse.nl/api/access/datafile/354098')\n",
        "\n",
        "# Filter and select relevant columns\n",
        "data = pwt1001.loc[pwt1001['country'].isin([\"Germany\", \"Canada\", \"France\", \"Itary\", \"Japan\", \"United Kingdom\", \"United States\"])][['year', 'countrycode', 'rgdpna', 'rkna', 'emp', 'labsh']]\n",
        "\n",
        "data = data.loc[(data['year'] >= 1995) & (data['year'] <= 2019)].dropna()\n",
        "\n",
        "# Calculate additional columns\n",
        "data['y_pc'] = np.log(data['rgdpna'] / data['emp'])  # 一人当たりGDP\n",
        "data['k_pc'] = np.log(data['rkna'] / data['emp'])  # 一人当たり資本\n",
        "data['a'] = 1 - data['labsh']  # Capital share　－　資本シェア\n",
        "\n",
        "# Order by year\n",
        "data = data.sort_values('year')\n",
        "\n",
        "# Group by isocode\n",
        "grouped_data = data.groupby('countrycode')\n",
        "\n",
        "# Calculate growth rates, Capital Deeping and TFP growth\n",
        "data['g'] = (grouped_data['y_pc'].diff() * 100)  # Growth rate of GDP per capita\n",
        "data['c'] = (grouped_data['k_pc'].diff() * 100) * (data['a']) # 資本深化\n",
        "data['t'] = data['g']  - data['c']\n",
        "\n",
        "# Remove missing values\n",
        "data = data.dropna()\n",
        "\n",
        "# Calculate summary statistics\n",
        "summary = data.groupby('countrycode').agg({'g': 'mean','a': \"mean\",'labsh': 'mean','c': 'mean','t': 'mean'})\n",
        "\n",
        "# Calculate additional summary statistics\n",
        "summary['Growth Rate'] = summary['g']\n",
        "summary['Capital Share'] = summary['a']\n",
        "summary['TFP Share'] = summary['labsh']\n",
        "summary['Capital Deepening'] = summary['c']\n",
        "summary['TFP Growth'] = summary['t']\n",
        "\n",
        "# Print output\n",
        "#print(summary['Growth Rate'],summary['Capital Share'],summary['TFP Share'],summary['Capital Deepening'],summary['TFP growth'])\n",
        "print(summary)"
      ]
    }
  ],
  "metadata": {
    "colab": {
      "provenance": [],
      "gpuType": "T4"
    },
    "kernelspec": {
      "display_name": "Python 3",
      "name": "python3"
    },
    "language_info": {
      "name": "python"
    },
    "accelerator": "GPU"
  },
  "nbformat": 4,
  "nbformat_minor": 0
}