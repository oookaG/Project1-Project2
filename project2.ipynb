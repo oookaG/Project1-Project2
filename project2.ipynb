{
  "cells": [
    {
      "cell_type": "code",
      "execution_count": null,
      "metadata": {
        "colab": {
          "base_uri": "https://localhost:8080/"
        },
        "id": "7xY0PSws21Ex",
        "outputId": "4625d80a-b78f-4df3-893b-06db0b3e00c6"
      },
      "outputs": [
        {
          "output_type": "stream",
          "name": "stdout",
          "text": [
            "                    g         a     labsh         c         t  Growth Rate  \\\n",
            "countrycode                                                                  \n",
            "AUS          1.724265  0.348140  0.651860  0.564797  1.159467     1.724265   \n",
            "AUT          3.038354  0.365929  0.634071  1.409189  1.629165     3.038354   \n",
            "\n",
            "             Capital Share  TFP Share  Capital Deepening  TFP growth  \n",
            "countrycode                                                           \n",
            "AUS               0.348140   0.651860           0.564797    1.159467  \n",
            "AUT               0.365929   0.634071           1.409189    1.629165  \n"
          ]
        }
      ],
      "source": [
        "import pandas as pd\n",
        "import numpy as np\n",
        "\n",
        "\n",
        "# Load data\n",
        "#pwt90 = pd.read_stata('https://www.rug.nl/ggdc/docs/pwt90.dta')\n",
        "pwt1001 = pd.read_stata('https://dataverse.nl/api/access/datafile/354098')\n",
        "\n",
        "# Filter and select relevant columns\n",
        "data = pwt1001.loc[pwt1001['country'].isin([\"Germany\", \"Canada\", \"France\", \"Itary\", \"Japan\", \"United Kingdom\", \"United States America\"])][['year', 'countrycode', 'rgdpna', 'rkna', 'emp', 'labsh']]\n",
        "\n",
        "data = data.loc[(data['year'] >= 1995) & (data['year'] <= 2019)].dropna()\n",
        "\n",
        "# Calculate additional columns\n",
        "data['y_pc'] = np.log(data['rgdpna'] / data['emp'])  # 一人当たりGDP\n",
        "data['k_pc'] = np.log(data['rkna'] / data['emp'])  # 一人当たり資本\n",
        "data['a'] = 1 - data['labsh']  # Capital share　－　資本シェア\n",
        "\n",
        "# Order by year\n",
        "data = data.sort_values('year')\n",
        "\n",
        "# Group by isocode\n",
        "grouped_data = data.groupby('countrycode')\n",
        "\n",
        "# Calculate growth rates and Solow residual\n",
        "data['g'] = (grouped_data['y_pc'].diff() * 100)  # Growth rate of GDP per capita\n",
        "data['c'] = (grouped_data['k_pc'].diff() * 100) * (data['a']) # 資本深化\n",
        "\n",
        "\n",
        "grouped_data = data.groupby('countrycode')\n",
        "\n",
        "data['t'] = data['g']  - data['c']\n",
        "\n",
        "# Remove missing values\n",
        "data = data.dropna()\n",
        "\n",
        "# Calculate summary statistics\n",
        "summary = data.groupby('countrycode').agg({'g': 'mean',\n",
        "                                       'a': \"mean\",'labsh': 'mean','c': 'mean','t': 'mean'})\n",
        "\n",
        "# Calculate additional summary statistics\n",
        "summary['Growth Rate'] = summary['g']\n",
        "summary['Capital Share'] = summary['a']\n",
        "summary['TFP Share'] = summary['labsh']\n",
        "summary['Capital Deepening'] = summary['c']\n",
        "summary['TFP growth'] = summary['t']\n",
        "\n",
        "# Print output\n",
        "#print(summary['Growth Rate'],summary['Capital Share'],summary['TFP Share'],summary['Capital Deepening'],summary['TFP growth'])\n",
        "print(summary)"
      ]
    }
  ],
  "metadata": {
    "colab": {
      "provenance": [],
      "gpuType": "T4"
    },
    "kernelspec": {
      "display_name": "Python 3",
      "name": "python3"
    },
    "language_info": {
      "name": "python"
    },
    "accelerator": "GPU"
  },
  "nbformat": 4,
  "nbformat_minor": 0
}